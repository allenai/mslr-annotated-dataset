{
 "cells": [
  {
   "cell_type": "code",
   "execution_count": 1,
   "metadata": {},
   "outputs": [],
   "source": [
    "import pandas as pd"
   ]
  },
  {
   "cell_type": "code",
   "execution_count": 2,
   "metadata": {},
   "outputs": [],
   "source": [
    "df = pd.read_json('data_with_overlap_scores.json', lines= True)"
   ]
  },
  {
   "cell_type": "code",
   "execution_count": 3,
   "metadata": {},
   "outputs": [
    {
     "data": {
      "text/html": [
       "<div>\n",
       "<style scoped>\n",
       "    .dataframe tbody tr th:only-of-type {\n",
       "        vertical-align: middle;\n",
       "    }\n",
       "\n",
       "    .dataframe tbody tr th {\n",
       "        vertical-align: top;\n",
       "    }\n",
       "\n",
       "    .dataframe thead th {\n",
       "        text-align: right;\n",
       "    }\n",
       "</style>\n",
       "<table border=\"1\" class=\"dataframe\">\n",
       "  <thead>\n",
       "    <tr style=\"text-align: right;\">\n",
       "      <th></th>\n",
       "      <th>subtask</th>\n",
       "      <th>review_id</th>\n",
       "      <th>target</th>\n",
       "      <th>predictions</th>\n",
       "      <th>target_entities</th>\n",
       "    </tr>\n",
       "  </thead>\n",
       "  <tbody>\n",
       "    <tr>\n",
       "      <th>0</th>\n",
       "      <td>Cochrane</td>\n",
       "      <td>CD000220</td>\n",
       "      <td>Metronidazole, given as a single dose, is like...</td>\n",
       "      <td>[{'exp_short': 'SPNXTA', 'prediction': 'Treatm...</td>\n",
       "      <td>[[cure rate, OUT], [metronidazole, INT]]</td>\n",
       "    </tr>\n",
       "    <tr>\n",
       "      <th>1</th>\n",
       "      <td>Cochrane</td>\n",
       "      <td>CD008012</td>\n",
       "      <td>Psychological interventions and pharmacologica...</td>\n",
       "      <td>[{'exp_short': 'SPNXTA', 'prediction': 'There ...</td>\n",
       "      <td>[[mortality rates and cardiac events, OUT], [s...</td>\n",
       "    </tr>\n",
       "    <tr>\n",
       "      <th>2</th>\n",
       "      <td>Cochrane</td>\n",
       "      <td>CD003948</td>\n",
       "      <td>There is weak evidence from one small trial th...</td>\n",
       "      <td>[{'exp_short': 'SPNXTA', 'prediction': 'The re...</td>\n",
       "      <td>[[chemotherapy, INT], [people with superficial...</td>\n",
       "    </tr>\n",
       "    <tr>\n",
       "      <th>3</th>\n",
       "      <td>Cochrane</td>\n",
       "      <td>CD009404</td>\n",
       "      <td>The findings of this review identified one ITS...</td>\n",
       "      <td>[{'exp_short': 'SPNXTA', 'prediction': 'There ...</td>\n",
       "      <td>[[incidence of wrong - site tooth extractions,...</td>\n",
       "    </tr>\n",
       "    <tr>\n",
       "      <th>4</th>\n",
       "      <td>Cochrane</td>\n",
       "      <td>CD005522</td>\n",
       "      <td>Tramadol or tramadol/paracetamol decreases pai...</td>\n",
       "      <td>[{'exp_short': 'SPNXTA', 'prediction': 'Tramad...</td>\n",
       "      <td>[[pain intensity symptom relief function, OUT]...</td>\n",
       "    </tr>\n",
       "  </tbody>\n",
       "</table>\n",
       "</div>"
      ],
      "text/plain": [
       "    subtask review_id                                             target  \\\n",
       "0  Cochrane  CD000220  Metronidazole, given as a single dose, is like...   \n",
       "1  Cochrane  CD008012  Psychological interventions and pharmacologica...   \n",
       "2  Cochrane  CD003948  There is weak evidence from one small trial th...   \n",
       "3  Cochrane  CD009404  The findings of this review identified one ITS...   \n",
       "4  Cochrane  CD005522  Tramadol or tramadol/paracetamol decreases pai...   \n",
       "\n",
       "                                         predictions  \\\n",
       "0  [{'exp_short': 'SPNXTA', 'prediction': 'Treatm...   \n",
       "1  [{'exp_short': 'SPNXTA', 'prediction': 'There ...   \n",
       "2  [{'exp_short': 'SPNXTA', 'prediction': 'The re...   \n",
       "3  [{'exp_short': 'SPNXTA', 'prediction': 'There ...   \n",
       "4  [{'exp_short': 'SPNXTA', 'prediction': 'Tramad...   \n",
       "\n",
       "                                     target_entities  \n",
       "0           [[cure rate, OUT], [metronidazole, INT]]  \n",
       "1  [[mortality rates and cardiac events, OUT], [s...  \n",
       "2  [[chemotherapy, INT], [people with superficial...  \n",
       "3  [[incidence of wrong - site tooth extractions,...  \n",
       "4  [[pain intensity symptom relief function, OUT]...  "
      ]
     },
     "execution_count": 3,
     "metadata": {},
     "output_type": "execute_result"
    }
   ],
   "source": [
    "df.head()"
   ]
  },
  {
   "cell_type": "code",
   "execution_count": null,
   "metadata": {},
   "outputs": [],
   "source": []
  }
 ],
 "metadata": {
  "kernelspec": {
   "display_name": "Python 3",
   "language": "python",
   "name": "python3"
  },
  "language_info": {
   "codemirror_mode": {
    "name": "ipython",
    "version": 3
   },
   "file_extension": ".py",
   "mimetype": "text/x-python",
   "name": "python",
   "nbconvert_exporter": "python",
   "pygments_lexer": "ipython3",
   "version": "3.8.5"
  }
 },
 "nbformat": 4,
 "nbformat_minor": 2
}
